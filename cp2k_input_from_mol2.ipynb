{
 "cells": [
  {
   "cell_type": "markdown",
   "metadata": {},
   "source": [
    "First we need to read:\n",
    "1. the coordinates of the atoms belonging in the primitive cell\n",
    "2. the primitive cell vectors\n",
    "The easiest way to do so is to use Mercury: open the cif file of the system under study, AutoEdit the structure (optional but advisable), enable Packing, and save as mol2 file. The generated mol2 file contains all necessary information."
   ]
  },
  {
   "cell_type": "code",
   "execution_count": null,
   "metadata": {},
   "outputs": [],
   "source": [
    "import math\n",
    "def read_mol2(file):\n",
    "    fp=open(file,'r')\n",
    "    mol2=fp.readlines()\n",
    "    fp.close()\n",
    "    species=[]\n",
    "    x=[]\n",
    "    y=[]\n",
    "    z=[]\n",
    "    for line_counter,line in enumerate(mol2):\n",
    "        if line.find('@<TRIPOS>MOLECULE\\n')==0:\n",
    "            name=mol2[line_counter+1]\n",
    "            atoms=int(mol2[line_counter+2].split()[0])\n",
    "        if line.find('@<TRIPOS>ATOM\\n')==0:\n",
    "            for i in range(atoms):\n",
    "                x.append(float(mol2[line_counter+i+1].split()[2]))\n",
    "                y.append(float(mol2[line_counter+i+1].split()[3]))\n",
    "                z.append(float(mol2[line_counter+i+1].split()[4]))\n",
    "                species.append(mol2[line_counter+i+1].split()[5])\n",
    "        if line.find('@<TRIPOS>CRYSIN\\n')==0:\n",
    "            a=float(mol2[line_counter+1].split()[0])\n",
    "            b=float(mol2[line_counter+1].split()[1])\n",
    "            c=float(mol2[line_counter+1].split()[2])\n",
    "            alpha=float(mol2[line_counter+1].split()[3])\n",
    "            beta=float(mol2[line_counter+1].split()[4])\n",
    "            gamma=float(mol2[line_counter+1].split()[5])\n",
    "    ax=a\n",
    "    ay=0.0\n",
    "    az=0.0\n",
    "    bx=b*math.cos(gamma*math.pi/180.0)\n",
    "    by=b*math.sin(gamma*math.pi/180.0)\n",
    "    bz=0.0\n",
    "    cx=c*math.cos(beta*math.pi/180.0)\n",
    "    cy=(b*c*math.cos(alpha*math.pi/180.0)-bx*cx)/by\n",
    "    cz=math.sqrt(c*c-cx*cx-cy*cy)\n",
    "    a_vector=[ax,ay,az]\n",
    "    b_vector=[bx,by,bz]\n",
    "    c_vector=[cx,cy,cz]\n",
    "    a_vector=[round(i,10) for i in a_vector]\n",
    "    b_vector=[round(i,10) for i in b_vector]\n",
    "    c_vector=[round(i,10) for i in c_vector]\n",
    "    species=[i.split('.')[0] for i in species]\n",
    "    return [atoms,species,x,y,z,a_vector,b_vector,c_vector]"
   ]
  },
  {
   "cell_type": "code",
   "execution_count": null,
   "metadata": {},
   "outputs": [],
   "source": [
    "# use dictionary to define system parameters\n",
    "cp2k_init={\n",
    "    'filename': 'RESORA09.mol2',\n",
    "    'BASIS_SET': 'DZVP-GTH',\n",
    "    'POTENTIAL': 'GTH-PBE'\n",
    "}\n",
    "# get coords and cell from mol2 file\n",
    "atoms,species,x,y,z,a,b,c=read_mol2(cp2k_init['filename'])\n",
    "# write subsys file\n",
    "repeat=[1,1,1]\n",
    "unique_species=[i for i in set(species)]\n",
    "with open('subsys.include',mode='w') as fp:\n",
    "    print(f' &SUBSYS', file=fp)\n",
    "    print(f'  &CELL', file=fp)\n",
    "    print(f'   A {\" \".join(list(map(str,a)))}', file=fp)\n",
    "    print(f'   B {\" \".join(list(map(str,b)))}', file=fp)\n",
    "    print(f'   C {\" \".join(list(map(str,c)))}', file=fp)\n",
    "    print(f'   PERIODIC XYZ', file=fp)\n",
    "    print(f'   MULTIPLE_UNIT_CELL {\" \".join(list(map(str,repeat)))}', file=fp)\n",
    "    print(f'  &END CELL', file=fp)\n",
    "    print(f'  &TOPOLOGY', file=fp)\n",
    "    print(f'   MULTIPLE_UNIT_CELL {\" \".join(list(map(str,repeat)))}', file=fp)\n",
    "    print(f'  &END TOPOLOGY', file=fp)\n",
    "    print(f'  &COORD', file=fp)\n",
    "    for i in range(atoms):\n",
    "        print(f'   {species[i]} {x[i]} {y[i]} {z[i]}', file=fp)\n",
    "    print(f'  &END COORD', file=fp)\n",
    "    for element in unique_species:\n",
    "        print(f'  &KIND {element}', file=fp)\n",
    "        print(f'   ELEMENT {element}', file=fp)\n",
    "        print(f'   BASIS_SET {cp2k_init[\"BASIS_SET\"]}', file=fp)\n",
    "        print(f'   POTENTIAL {cp2k_init[\"POTENTIAL\"]}', file=fp)\n",
    "        print(f'  &END KIND', file=fp)\n",
    "    print(f' &END SUBSYS', file=fp)"
   ]
  }
 ],
 "metadata": {
  "kernelspec": {
   "display_name": "Python 3",
   "language": "python",
   "name": "python3"
  },
  "language_info": {
   "codemirror_mode": {
    "name": "ipython",
    "version": 3
   },
   "file_extension": ".py",
   "mimetype": "text/x-python",
   "name": "python",
   "nbconvert_exporter": "python",
   "pygments_lexer": "ipython3",
   "version": "3.7.5"
  }
 },
 "nbformat": 4,
 "nbformat_minor": 4
}
